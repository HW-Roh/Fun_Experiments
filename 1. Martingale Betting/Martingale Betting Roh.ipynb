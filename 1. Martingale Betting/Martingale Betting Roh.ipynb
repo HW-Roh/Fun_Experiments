{
 "cells": [
  {
   "cell_type": "markdown",
   "metadata": {},
   "source": [
    "# Martingale Betting Strategy\n",
    "# Roh\n",
    "\n",
    "\n",
    "## We are interested in the two things for two different settings. Two different settings are\n",
    "\n",
    "1) When we have unlimited money so that we can keep betting\n",
    "\n",
    "2) When there is a limit on the size of betting (realistic)\n",
    "\n",
    "## Three things we want to check for 'n' sequential bets:\n",
    "\n",
    "1) What is the expected number of games sequentially played when we stop playing once we earn 'x' amount of money?\n",
    "   \n",
    "  - Then we can calculate the probability of winning x amount of money after n sequential bets\n",
    "  - And its variance\n",
    "\n",
    "2) Minimum and Maximum number of game played to earn 'x' amount of money\n",
    "\n",
    "3) What is the expected value of our winnings after 'n' sequential bets"
   ]
  },
  {
   "cell_type": "code",
   "execution_count": 1,
   "metadata": {},
   "outputs": [],
   "source": [
    "import numpy as np\n",
    "import pandas as pd\n",
    "import matplotlib.pyplot as plt"
   ]
  },
  {
   "cell_type": "code",
   "execution_count": 2,
   "metadata": {},
   "outputs": [],
   "source": [
    "def get_result(win_prob):\n",
    "    result = False\n",
    "    if np.random.random() <= win_prob:\n",
    "        result = True\n",
    "    return result"
   ]
  },
  {
   "cell_type": "code",
   "execution_count": 3,
   "metadata": {},
   "outputs": [],
   "source": [
    "def simulator_coin(cnt_sim, win_prob, stop, limit=False, limit_size=256):\n",
    "    \n",
    "    winnings_all = []\n",
    "    trial_all = []\n",
    "    cnt = 0\n",
    "    \n",
    "    if limit==False:\n",
    "        while cnt < cnt_sim:\n",
    "\n",
    "            winnings = 0\n",
    "            winnings_trk = [winnings]\n",
    "            trial = 0\n",
    "\n",
    "            while winnings < stop:\n",
    "\n",
    "                tfwin = False\n",
    "                bet = 1\n",
    "\n",
    "\n",
    "                while not tfwin:\n",
    "                    tfwin = get_result(win_prob)\n",
    "\n",
    "                    if tfwin:\n",
    "                        winnings += bet\n",
    "\n",
    "                    else:\n",
    "                        winnings -= bet\n",
    "                        bet *= 2\n",
    "\n",
    "                    trial += 1\n",
    "                    # keep tracking each simulation\n",
    "                    winnings_trk.append(winnings)\n",
    "\n",
    "            # keep track of all simulation\n",
    "            winnings_all.append(winnings_trk)\n",
    "            trial_all.append(trial)\n",
    "            cnt += 1\n",
    "    \n",
    "    else:\n",
    "        while cnt < cnt_sim:\n",
    "\n",
    "            winnings = 0\n",
    "            winnings_trk = [winnings]\n",
    "            trial = 0\n",
    "\n",
    "\n",
    "            while (winnings < stop) and (winnings > -limit_size):\n",
    "\n",
    "                tfwin = False\n",
    "                bet = 1\n",
    "\n",
    "\n",
    "                while not tfwin:\n",
    "                    tfwin = get_result(win_prob)\n",
    "\n",
    "                    if tfwin:\n",
    "                        winnings += bet\n",
    "\n",
    "                    else:\n",
    "                        winnings -= bet\n",
    "                        bet *= 2\n",
    "                        \n",
    "                        # upper bound for bet\n",
    "                        if bet > (limit_size + winnings):\n",
    "                            bet = limit_size + winnings\n",
    "                        \n",
    "                    trial += 1\n",
    "                    # keep tracking each simulation\n",
    "                    winnings_trk.append(winnings)\n",
    "                    \n",
    "                    if winnings <= -limit_size:\n",
    "                        break\n",
    "                        \n",
    "            # keep track of all simulation\n",
    "            winnings_all.append(winnings_trk)\n",
    "            trial_all.append(trial)\n",
    "            cnt += 1\n",
    "    \n",
    "    return winnings_all, trial_all"
   ]
  },
  {
   "cell_type": "markdown",
   "metadata": {},
   "source": [
    "# No limit on Betting\n",
    "# target money x = 50\n",
    "Simulate 500 times "
   ]
  },
  {
   "cell_type": "code",
   "execution_count": 4,
   "metadata": {},
   "outputs": [],
   "source": [
    "np.random.seed(2020)\n",
    "cnt_sim = 500\n",
    "p = 0.5\n",
    "stop = 50\n",
    "winnings_all, trial_all = simulator_coin(cnt_sim,p,stop,False)"
   ]
  },
  {
   "cell_type": "code",
   "execution_count": 5,
   "metadata": {},
   "outputs": [
    {
     "data": {
      "text/plain": [
       "500"
      ]
     },
     "execution_count": 5,
     "metadata": {},
     "output_type": "execute_result"
    }
   ],
   "source": [
    "len(winnings_all)"
   ]
  },
  {
   "cell_type": "markdown",
   "metadata": {},
   "source": [
    "## The expected number of game played to earn 50 is 100."
   ]
  },
  {
   "cell_type": "code",
   "execution_count": 6,
   "metadata": {},
   "outputs": [
    {
     "data": {
      "text/plain": [
       "99.654"
      ]
     },
     "execution_count": 6,
     "metadata": {},
     "output_type": "execute_result"
    }
   ],
   "source": [
    "np.mean(trial_all)"
   ]
  },
  {
   "cell_type": "code",
   "execution_count": 7,
   "metadata": {},
   "outputs": [
    {
     "data": {
      "text/plain": [
       "95.16228399999999"
      ]
     },
     "execution_count": 7,
     "metadata": {},
     "output_type": "execute_result"
    }
   ],
   "source": [
    "np.var(trial_all)"
   ]
  },
  {
   "cell_type": "markdown",
   "metadata": {},
   "source": [
    "### Check the largest loss for each simulation. This will be shrinked to certain amount of money once we regulate the betting size.\n",
    "\n",
    "each column in 'df' represents each simulation"
   ]
  },
  {
   "cell_type": "code",
   "execution_count": 8,
   "metadata": {},
   "outputs": [
    {
     "name": "stdout",
     "output_type": "stream",
     "text": [
      "(131, 500)\n"
     ]
    },
    {
     "data": {
      "image/png": "[encoded data removed]",
      "text/plain": [
       "<Figure size 432x288 with 1 Axes>"
      ]
     },
     "metadata": {
      "needs_background": "light"
     },
     "output_type": "display_data"
    }
   ],
   "source": [
    "df = pd.DataFrame(winnings_all).T\n",
    "df.min().plot()\n",
    "print(df.shape)"
   ]
  },
  {
   "cell_type": "code",
   "execution_count": 9,
   "metadata": {},
   "outputs": [
    {
     "data": {
      "text/plain": [
       "(array([230, 282, 361]),)"
      ]
     },
     "execution_count": 9,
     "metadata": {},
     "output_type": "execute_result"
    }
   ],
   "source": [
    "np.where(df.min()<-5000)"
   ]
  },
  {
   "cell_type": "code",
   "execution_count": 10,
   "metadata": {
    "scrolled": true
   },
   "outputs": [
    {
     "name": "stdout",
     "output_type": "stream",
     "text": [
      "0         0.0\n",
      "1        -1.0\n",
      "2         1.0\n",
      "3         2.0\n",
      "4         1.0\n",
      "5         3.0\n",
      "6         2.0\n",
      "7         4.0\n",
      "8         5.0\n",
      "9         4.0\n",
      "10        6.0\n",
      "11        5.0\n",
      "12        7.0\n",
      "13        8.0\n",
      "14        9.0\n",
      "15       10.0\n",
      "16       11.0\n",
      "17       10.0\n",
      "18        8.0\n",
      "19        4.0\n",
      "20       12.0\n",
      "21       13.0\n",
      "22       14.0\n",
      "23       13.0\n",
      "24       15.0\n",
      "25       16.0\n",
      "26       15.0\n",
      "27       13.0\n",
      "28       17.0\n",
      "29       18.0\n",
      "30       19.0\n",
      "31       20.0\n",
      "32       19.0\n",
      "33       21.0\n",
      "34       20.0\n",
      "35       18.0\n",
      "36       22.0\n",
      "37       23.0\n",
      "38       22.0\n",
      "39       24.0\n",
      "40       25.0\n",
      "41       26.0\n",
      "42       27.0\n",
      "43       28.0\n",
      "44       29.0\n",
      "45       28.0\n",
      "46       26.0\n",
      "47       22.0\n",
      "48       14.0\n",
      "49       30.0\n",
      "50       29.0\n",
      "51       27.0\n",
      "52       31.0\n",
      "53       30.0\n",
      "54       28.0\n",
      "55       24.0\n",
      "56       32.0\n",
      "57       31.0\n",
      "58       33.0\n",
      "59       34.0\n",
      "60       33.0\n",
      "61       35.0\n",
      "62       36.0\n",
      "63       35.0\n",
      "64       37.0\n",
      "65       36.0\n",
      "66       34.0\n",
      "67       38.0\n",
      "68       37.0\n",
      "69       39.0\n",
      "70       38.0\n",
      "71       36.0\n",
      "72       40.0\n",
      "73       39.0\n",
      "74       37.0\n",
      "75       33.0\n",
      "76       41.0\n",
      "77       40.0\n",
      "78       42.0\n",
      "79       41.0\n",
      "80       39.0\n",
      "81       35.0\n",
      "82       27.0\n",
      "83       11.0\n",
      "84      -21.0\n",
      "85      -85.0\n",
      "86     -213.0\n",
      "87     -469.0\n",
      "88     -981.0\n",
      "89    -2005.0\n",
      "90    -4053.0\n",
      "91    -8149.0\n",
      "92       43.0\n",
      "93       42.0\n",
      "94       40.0\n",
      "95       36.0\n",
      "96       28.0\n",
      "97       44.0\n",
      "98       43.0\n",
      "99       41.0\n",
      "100      37.0\n",
      "101      45.0\n",
      "102      46.0\n",
      "103      47.0\n",
      "104      46.0\n",
      "105      44.0\n",
      "106      40.0\n",
      "107      32.0\n",
      "108      48.0\n",
      "109      47.0\n",
      "110      45.0\n",
      "111      49.0\n",
      "112      50.0\n",
      "113       NaN\n",
      "114       NaN\n",
      "115       NaN\n",
      "116       NaN\n",
      "117       NaN\n",
      "118       NaN\n",
      "119       NaN\n",
      "120       NaN\n",
      "121       NaN\n",
      "122       NaN\n",
      "123       NaN\n",
      "124       NaN\n",
      "125       NaN\n",
      "126       NaN\n",
      "127       NaN\n",
      "128       NaN\n",
      "129       NaN\n",
      "130       NaN\n",
      "Name: 361, dtype: float64\n"
     ]
    }
   ],
   "source": [
    "with pd.option_context('display.max_rows', None, 'display.max_columns', None):  # more options can be specified also\n",
    "    print(df.iloc[:,df.min().idxmin()])"
   ]
  },
  {
   "cell_type": "markdown",
   "metadata": {},
   "source": [
    "# The minimum and maximum number of game played\n",
    "\n",
    "    idxmax(axis=0) : returns the index of maximum value in each column"
   ]
  },
  {
   "cell_type": "code",
   "execution_count": 11,
   "metadata": {},
   "outputs": [
    {
     "data": {
      "text/plain": [
       "(130, 70)"
      ]
     },
     "execution_count": 11,
     "metadata": {},
     "output_type": "execute_result"
    }
   ],
   "source": [
    "np.max(df.idxmax(axis=0)), np.min(df.idxmax(axis=0))"
   ]
  },
  {
   "cell_type": "code",
   "execution_count": 12,
   "metadata": {},
   "outputs": [
    {
     "data": {
      "text/plain": [
       "count    500.000000\n",
       "mean      99.654000\n",
       "std        9.764886\n",
       "min       70.000000\n",
       "25%       93.000000\n",
       "50%       99.000000\n",
       "75%      106.000000\n",
       "max      130.000000\n",
       "dtype: float64"
      ]
     },
     "execution_count": 12,
     "metadata": {},
     "output_type": "execute_result"
    }
   ],
   "source": [
    "df.idxmax(axis=0).describe()"
   ]
  },
  {
   "cell_type": "markdown",
   "metadata": {},
   "source": [
    "# We are only interested in first 100 game played for every simulation.\n",
    "\n",
    "# Out of 500 simulations, when we stop playing at 100 th game every simulation, how many times did we earn $50 profit?"
   ]
  },
  {
   "cell_type": "code",
   "execution_count": 13,
   "metadata": {},
   "outputs": [
    {
     "data": {
      "text/plain": [
       "0.52"
      ]
     },
     "execution_count": 13,
     "metadata": {},
     "output_type": "execute_result"
    }
   ],
   "source": [
    "n = 100\n",
    "df = df.reindex(range(n)).fillna(method='ffill')\n",
    "(df.iloc[-1,:]==50).sum() / float(cnt_sim)"
   ]
  },
  {
   "cell_type": "code",
   "execution_count": 14,
   "metadata": {},
   "outputs": [
    {
     "data": {
      "text/plain": [
       "(240, 0.48)"
      ]
     },
     "execution_count": 14,
     "metadata": {},
     "output_type": "execute_result"
    }
   ],
   "source": [
    "(df.iloc[-1,:]!=50).sum(), (df.iloc[-1,:]!=50).sum()/cnt_sim"
   ]
  },
  {
   "cell_type": "code",
   "execution_count": 15,
   "metadata": {},
   "outputs": [
    {
     "data": {
      "text/plain": [
       "(array([  0,   1,   5,   8,  10,  13,  16,  18,  22,  24,  27,  29,  35,\n",
       "         36,  39,  40,  41,  42,  43,  44,  47,  48,  49,  50,  51,  52,\n",
       "         53,  54,  58,  60,  61,  62,  65,  72,  74,  75,  77,  78,  79,\n",
       "         81,  82,  83,  87,  90,  91,  93,  94,  95,  99, 100, 103, 104,\n",
       "        106, 107, 108, 110, 111, 113, 116, 117, 120, 121, 124, 125, 127,\n",
       "        132, 136, 138, 141, 144, 145, 146, 147, 151, 158, 163, 164, 166,\n",
       "        167, 169, 170, 171, 174, 175, 181, 182, 183, 186, 189, 191, 197,\n",
       "        198, 199, 200, 202, 203, 206, 210, 212, 216, 218, 220, 221, 222,\n",
       "        224, 225, 226, 228, 229, 233, 235, 236, 237, 238, 242, 246, 248,\n",
       "        251, 254, 257, 258, 261, 262, 263, 265, 267, 272, 273, 275, 277,\n",
       "        280, 282, 286, 289, 290, 291, 292, 293, 299, 303, 305, 309, 311,\n",
       "        312, 314, 315, 316, 322, 324, 325, 326, 327, 330, 331, 332, 333,\n",
       "        335, 338, 339, 340, 341, 343, 344, 345, 348, 351, 352, 355, 357,\n",
       "        361, 362, 366, 369, 370, 371, 374, 375, 376, 377, 379, 380, 381,\n",
       "        382, 386, 390, 391, 393, 394, 395, 401, 403, 404, 406, 407, 410,\n",
       "        415, 416, 417, 418, 419, 420, 421, 423, 424, 425, 426, 427, 430,\n",
       "        432, 434, 436, 439, 442, 443, 444, 447, 449, 450, 452, 460, 462,\n",
       "        463, 466, 467, 468, 471, 474, 477, 479, 480, 481, 482, 483, 484,\n",
       "        485, 486, 487, 489, 494, 495]),)"
      ]
     },
     "execution_count": 15,
     "metadata": {},
     "output_type": "execute_result"
    }
   ],
   "source": [
    "np.where(df.iloc[n-1,:]!=50)"
   ]
  },
  {
   "cell_type": "markdown",
   "metadata": {},
   "source": [
    "# When we stop playing at 100 th game every simulation, on average how much do we earn?"
   ]
  },
  {
   "cell_type": "code",
   "execution_count": 16,
   "metadata": {},
   "outputs": [
    {
     "data": {
      "text/plain": [
       "44.908"
      ]
     },
     "execution_count": 16,
     "metadata": {},
     "output_type": "execute_result"
    }
   ],
   "source": [
    "(df.iloc[-1,:]).sum() / float(cnt_sim)"
   ]
  },
  {
   "cell_type": "markdown",
   "metadata": {},
   "source": [
    "# For the 500 simulations, we plot the final profit after 100 sequential bets"
   ]
  },
  {
   "cell_type": "code",
   "execution_count": 17,
   "metadata": {},
   "outputs": [
    {
     "data": {
      "text/plain": [
       "<matplotlib.axes._subplots.AxesSubplot at 0x115896490>"
      ]
     },
     "execution_count": 17,
     "metadata": {},
     "output_type": "execute_result"
    },
    {
     "data": {
      "image/png": "[encoded data removed]",
      "text/plain": [
       "<Figure size 432x288 with 1 Axes>"
      ]
     },
     "metadata": {
      "needs_background": "light"
     },
     "output_type": "display_data"
    }
   ],
   "source": [
    "df.iloc[-1,:].plot()"
   ]
  },
  {
   "cell_type": "code",
   "execution_count": 18,
   "metadata": {},
   "outputs": [
    {
     "data": {
      "image/png": "[encoded data removed]",
      "text/plain": [
       "<Figure size 432x288 with 1 Axes>"
      ]
     },
     "metadata": {
      "needs_background": "light"
     },
     "output_type": "display_data"
    }
   ],
   "source": [
    "plt.hist(df.iloc[-1,:])\n",
    "plt.show()"
   ]
  },
  {
   "cell_type": "code",
   "execution_count": 19,
   "metadata": {},
   "outputs": [
    {
     "data": {
      "text/plain": [
       "(104, -218.0)"
      ]
     },
     "execution_count": 19,
     "metadata": {},
     "output_type": "execute_result"
    }
   ],
   "source": [
    "df.iloc[-1,:].idxmin(), df.iloc[-1,104]"
   ]
  },
  {
   "cell_type": "markdown",
   "metadata": {},
   "source": [
    "# The worst case where we ended up losing -218"
   ]
  },
  {
   "cell_type": "code",
   "execution_count": 20,
   "metadata": {},
   "outputs": [
    {
     "data": {
      "text/plain": [
       "<matplotlib.axes._subplots.AxesSubplot at 0x104374110>"
      ]
     },
     "execution_count": 20,
     "metadata": {},
     "output_type": "execute_result"
    },
    {
     "data": {
      "image/png": "[encoded data removed]",
      "text/plain": [
       "<Figure size 432x288 with 1 Axes>"
      ]
     },
     "metadata": {
      "needs_background": "light"
     },
     "output_type": "display_data"
    }
   ],
   "source": [
    "df.iloc[:,104].plot()"
   ]
  },
  {
   "cell_type": "markdown",
   "metadata": {},
   "source": [
    "# When there is a limit on the bet (realistic assumption)\n",
    "\n",
    "## Setting is same as above\n",
    "\n",
    "## When we assume that we have threshold for the size of money on betting (i.e., 256 USD)\n",
    "\n",
    "Setting 256USD as threshold means that we are unlucky to see 8 consecutive losses from the coin tossing whose theoretical probability is $$(1/2)^8 \\approx 0.004$$ \n",
    "which is 0.4 percent"
   ]
  },
  {
   "cell_type": "code",
   "execution_count": 21,
   "metadata": {},
   "outputs": [
    {
     "data": {
      "text/plain": [
       "(array([ 10,  22,  35,  42,  43,  67,  79,  87, 109, 116, 171, 214, 230,\n",
       "        233, 237, 254, 258, 267, 276, 311, 314, 356, 361, 419, 459, 467]),)"
      ]
     },
     "execution_count": 21,
     "metadata": {},
     "output_type": "execute_result"
    }
   ],
   "source": [
    "np.where(df.min()<-256)"
   ]
  },
  {
   "cell_type": "code",
   "execution_count": 22,
   "metadata": {},
   "outputs": [],
   "source": [
    "np.random.seed(2020)\n",
    "cnt_sim = 500\n",
    "p = 0.5\n",
    "stop = 50\n",
    "winnings_all, trial_all = simulator_coin(cnt_sim,p,stop,True)"
   ]
  },
  {
   "cell_type": "code",
   "execution_count": 23,
   "metadata": {},
   "outputs": [
    {
     "data": {
      "text/plain": [
       "109.36"
      ]
     },
     "execution_count": 23,
     "metadata": {},
     "output_type": "execute_result"
    }
   ],
   "source": [
    "np.mean(trial_all)"
   ]
  },
  {
   "cell_type": "markdown",
   "metadata": {},
   "source": [
    "### Variance becomes very large"
   ]
  },
  {
   "cell_type": "code",
   "execution_count": 24,
   "metadata": {},
   "outputs": [
    {
     "data": {
      "text/plain": [
       "5848.130399999999"
      ]
     },
     "execution_count": 24,
     "metadata": {},
     "output_type": "execute_result"
    }
   ],
   "source": [
    "np.var(trial_all)"
   ]
  },
  {
   "cell_type": "code",
   "execution_count": 25,
   "metadata": {},
   "outputs": [
    {
     "data": {
      "text/plain": [
       "<matplotlib.axes._subplots.AxesSubplot at 0x116626750>"
      ]
     },
     "execution_count": 25,
     "metadata": {},
     "output_type": "execute_result"
    },
    {
     "data": {
      "image/png": "[encoded data removed]",
      "text/plain": [
       "<Figure size 432x288 with 1 Axes>"
      ]
     },
     "metadata": {
      "needs_background": "light"
     },
     "output_type": "display_data"
    }
   ],
   "source": [
    "df = pd.DataFrame(winnings_all).T\n",
    "df.min().plot()"
   ]
  },
  {
   "cell_type": "code",
   "execution_count": 26,
   "metadata": {},
   "outputs": [],
   "source": [
    "df = df.reindex(range(100)).fillna(method='ffill')"
   ]
  },
  {
   "cell_type": "markdown",
   "metadata": {},
   "source": [
    "# When there is a limit on the bet size, we can see the probability of obtaining the target profit decreases"
   ]
  },
  {
   "cell_type": "code",
   "execution_count": 27,
   "metadata": {},
   "outputs": [
    {
     "data": {
      "text/plain": [
       "0.482"
      ]
     },
     "execution_count": 27,
     "metadata": {},
     "output_type": "execute_result"
    }
   ],
   "source": [
    "(df.iloc[-1,:]==50).sum() / float(cnt_sim)"
   ]
  },
  {
   "cell_type": "markdown",
   "metadata": {},
   "source": [
    "# When there is a limit, the estimated expected value of our winning after 170 sequential bets is"
   ]
  },
  {
   "cell_type": "code",
   "execution_count": 28,
   "metadata": {},
   "outputs": [
    {
     "data": {
      "text/plain": [
       "4.972"
      ]
     },
     "execution_count": 28,
     "metadata": {},
     "output_type": "execute_result"
    }
   ],
   "source": [
    "(df.iloc[-1,:]).sum() / float(cnt_sim)"
   ]
  },
  {
   "cell_type": "code",
   "execution_count": 29,
   "metadata": {},
   "outputs": [
    {
     "data": {
      "text/plain": [
       "<matplotlib.axes._subplots.AxesSubplot at 0x10430bcd0>"
      ]
     },
     "execution_count": 29,
     "metadata": {},
     "output_type": "execute_result"
    },
    {
     "data": {
      "image/png": "[encoded data removed]",
      "text/plain": [
       "<Figure size 432x288 with 1 Axes>"
      ]
     },
     "metadata": {
      "needs_background": "light"
     },
     "output_type": "display_data"
    }
   ],
   "source": [
    "df.iloc[-1,:].plot()"
   ]
  },
  {
   "cell_type": "code",
   "execution_count": 30,
   "metadata": {},
   "outputs": [
    {
     "data": {
      "image/png": "[encoded data removed]",
      "text/plain": [
       "<Figure size 432x288 with 1 Axes>"
      ]
     },
     "metadata": {
      "needs_background": "light"
     },
     "output_type": "display_data"
    }
   ],
   "source": [
    "plt.hist(df.iloc[-1,:])\n",
    "plt.show()"
   ]
  },
  {
   "cell_type": "code",
   "execution_count": null,
   "metadata": {},
   "outputs": [],
   "source": []
  }
 ],
 "metadata": {
  "kernelspec": {
   "display_name": "Python 3",
   "language": "python",
   "name": "python3"
  },
  "language_info": {
   "codemirror_mode": {
    "name": "ipython",
    "version": 3
   },
   "file_extension": ".py",
   "mimetype": "text/x-python",
   "name": "python",
   "nbconvert_exporter": "python",
   "pygments_lexer": "ipython3",
   "version": "3.7.4"
  }
 },
 "nbformat": 4,
 "nbformat_minor": 2
}
